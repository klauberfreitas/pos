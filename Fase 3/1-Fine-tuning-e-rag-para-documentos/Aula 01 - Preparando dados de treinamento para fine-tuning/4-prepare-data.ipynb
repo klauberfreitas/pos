{
 "cells": [
  {
   "cell_type": "code",
   "execution_count": 1,
   "metadata": {},
   "outputs": [],
   "source": [
    "import json"
   ]
  },
  {
   "cell_type": "code",
   "execution_count": 2,
   "metadata": {
    "id": "VvXIUylQYIEr"
   },
   "outputs": [],
   "source": [
    "def process_line_complementary_dataset(item):\n",
    "    #Processa cada linha do arquivo JSON Lines, que contém os campos 'story' e 'summary\n",
    "    return {\n",
    "        \"input\": f\"SUMMARIZE THIS NEWS.\\n[|News|] {item['story']}[|eNews|]\\n\\n[|summary|]{item['summary']}[|esummary|]\"\n",
    "    }\n",
    "\n",
    "def process_news_summaries_file(file_path, processed_data):\n",
    "    #Lê um arquivo JSON do nosso dataset, processa cada notícia para formatar conforme o solicitado e adiciona à lista processed_data\n",
    "    with open(file_path, 'r', encoding='utf-8') as file:\n",
    "        json_data = json.load(file)\n",
    "        news_list = json_data[\"news_summaries\"]\n",
    "\n",
    "        for item in news_list:\n",
    "            story = item[\"story\"]\n",
    "            summary = item[\"summary\"]\n",
    "            formatted_text = f\"SUMMARIZE THIS NEWS.\\n[|News|] {story}[|eNews|]\\n\\n[|summary|]{summary}[|esummary|]\"\n",
    "            processed_data.append({\"input\": formatted_text})\n"
   ]
  },
  {
   "cell_type": "code",
   "execution_count": 3,
   "metadata": {
    "id": "9dF4NkQmZqv1"
   },
   "outputs": [
    {
     "name": "stdout",
     "output_type": "stream",
     "text": [
      "Todos os dados reformatados foram salvos em 'news_dataset_chat_data.json'.\n"
     ]
    }
   ],
   "source": [
    "\n",
    "# Lista para armazenar todos os dados processados\n",
    "processed_data = []\n",
    "\n",
    "# Processar dados do arquivo JSON Lines do dataset complementar\n",
    "with open(r'data.jsonl', 'r', encoding='utf-8') as file:\n",
    "    for line in file:\n",
    "        item = json.loads(line)\n",
    "        processed_data.append(process_line_complementary_dataset(item))\n",
    "\n",
    "# Adicionar dados processados do arquivo JSON regular à mesma lista\n",
    "process_news_summaries_file(r'news_summaries.json', processed_data)\n",
    "\n",
    "# Salvar todos os dados processados em um arquivo JSON\n",
    "output_filename = r'news_dataset_chat_data.json'\n",
    "with open(output_filename, 'w', encoding='utf-8') as file:\n",
    "    json.dump(processed_data, file, ensure_ascii=False, indent=4)\n",
    "\n",
    "print(f\"Todos os dados reformatados foram salvos em '{output_filename}'.\")\n"
   ]
  }
 ],
 "metadata": {
  "colab": {
   "authorship_tag": "ABX9TyMsfekl3GPGVmtH1xIU0yL7",
   "provenance": []
  },
  "kernelspec": {
   "display_name": "Python 3",
   "name": "python3"
  },
  "language_info": {
   "codemirror_mode": {
    "name": "ipython",
    "version": 3
   },
   "file_extension": ".py",
   "mimetype": "text/x-python",
   "name": "python",
   "nbconvert_exporter": "python",
   "pygments_lexer": "ipython3",
   "version": "3.11.1"
  }
 },
 "nbformat": 4,
 "nbformat_minor": 0
}
