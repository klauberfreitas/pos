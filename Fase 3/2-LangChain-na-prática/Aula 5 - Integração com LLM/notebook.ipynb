{
 "cells": [
  {
   "cell_type": "code",
   "execution_count": 1,
   "metadata": {},
   "outputs": [],
   "source": [
    "#!pip install langchain_openai pydantic"
   ]
  },
  {
   "cell_type": "code",
   "execution_count": 2,
   "metadata": {},
   "outputs": [],
   "source": [
    "# Notícia 1: A economia global está se recuperando após a pandemia.\n",
    "# Notícia 2: O mercado de ações caiu drasticamente na última semana.\n",
    "# Notícia 3: Novas tecnologias estão impulsionando a inovação em diversas indústrias."
   ]
  },
  {
   "cell_type": "code",
   "execution_count": null,
   "metadata": {},
   "outputs": [],
   "source": [
    "from langchain_community.llms import Ollama\n",
    "from langchain.callbacks.manager import CallbackManager\n",
    "from langchain.callbacks.streaming_stdout import StreamingStdOutCallbackHandler\n",
    "from langchain.prompts import PromptTemplate\n",
    "from langchain.chains import LLMChain\n",
    "from langchain_community.document_loaders import TextLoader\n",
    "import os\n",
    "\n",
    "def carregar_documentos(caminho_arquivo):\n",
    "   loader = TextLoader(caminho_arquivo)\n",
    "   documentos = loader.load()\n",
    "   return documentos\n",
    "\n",
    "def limpar_texto(texto):\n",
    "   return texto.strip()\n",
    "\n",
    "llm = Ollama(\n",
    "   model=\"llama2\",\n",
    "   num_gpu=0,\n",
    "   callback_manager=CallbackManager([StreamingStdOutCallbackHandler()])\n",
    ")\n",
    "\n",
    "prompt_sentimento = \"Analise o sentimento do seguinte texto em português: {text}\"\n",
    "prompt_resumo = \"Gere um resumo em português para o seguinte texto: {text}\"\n",
    "\n",
    "template_sentimento = PromptTemplate(input_variables=[\"text\"], template=prompt_sentimento)\n",
    "template_resumo = PromptTemplate(input_variables=[\"text\"], template=prompt_resumo)\n",
    "\n",
    "chain_sentimento = LLMChain(llm=llm, prompt=template_sentimento)\n",
    "chain_resumo = LLMChain(llm=llm, prompt=template_resumo)\n",
    "\n",
    "caminho_arquivo = \"noticias.txt\"\n",
    "\n",
    "if not os.path.exists(caminho_arquivo):\n",
    "   raise FileNotFoundError(f\"O arquivo {caminho_arquivo} não foi encontrado.\")\n",
    "\n",
    "documentos = carregar_documentos(caminho_arquivo)\n",
    "\n",
    "for doc in documentos:\n",
    "   texto_limpo = limpar_texto(doc.page_content)\n",
    "\n",
    "   resultado_sentimento = chain_sentimento.invoke({\"text\": texto_limpo})\n",
    "   resultado_resumo = chain_resumo.invoke({\"text\": texto_limpo})\n",
    "\n",
    "   print(f\"Notícia: {texto_limpo}\")\n",
    "   print(f\"Sentimento: {resultado_sentimento}\")\n",
    "   print(f\"Resumo: {resultado_resumo}\")\n",
    "   print(\"-\" * 120)"
   ]
  },
  {
   "cell_type": "code",
   "execution_count": null,
   "metadata": {},
   "outputs": [],
   "source": [
    "llm = Ollama(\n",
    "   model=\"mistral\",\n",
    "   num_gpu=0,\n",
    "   callback_manager=CallbackManager([StreamingStdOutCallbackHandler()])\n",
    ")"
   ]
  }
 ],
 "metadata": {
  "kernelspec": {
   "display_name": "Python 3",
   "language": "python",
   "name": "python3"
  },
  "language_info": {
   "codemirror_mode": {
    "name": "ipython",
    "version": 3
   },
   "file_extension": ".py",
   "mimetype": "text/x-python",
   "name": "python",
   "nbconvert_exporter": "python",
   "pygments_lexer": "ipython3",
   "version": "3.11.1"
  }
 },
 "nbformat": 4,
 "nbformat_minor": 2
}
