{
 "cells": [
  {
   "cell_type": "code",
   "execution_count": null,
   "metadata": {},
   "outputs": [],
   "source": [
    "!pip install langchain_openai pydantic"
   ]
  },
  {
   "cell_type": "code",
   "execution_count": null,
   "metadata": {},
   "outputs": [],
   "source": [
    "from langchain.prompts import PromptTemplate\n",
    "from langchain_openai import OpenAI\n",
    "\n",
    "template = \"Descreva as principais características de um produto chamado {produto}.\"\n",
    "\n",
    "llm = OpenAI(temperature=0.7)\n",
    "\n",
    "prompt = PromptTemplate(template=template, input_variables=[\"produto\"])\n",
    "\n",
    "prompt_completo = prompt.format(produto=\"Smartphone X\")\n",
    "\n",
    "resposta = llm.invoke(prompt_completo)\n",
    "print(resposta)"
   ]
  },
  {
   "cell_type": "code",
   "execution_count": null,
   "metadata": {},
   "outputs": [],
   "source": [
    "from langchain.prompts import PromptTemplate\n",
    "from langchain_openai import OpenAI\n",
    "\n",
    "template = \"\"\"\n",
    "Extraia as informações abaixo da avaliação de produto fornecida:\n",
    "- Nome do produto\n",
    "- Avaliação do cliente\n",
    "- Tempo de entrega\n",
    "\n",
    "Avaliação: {avaliacao}\n",
    "\"\"\"\n",
    "\n",
    "llm = OpenAI(temperature=0.5)\n",
    "\n",
    "prompt = PromptTemplate(template=template, input_variables=[\"avaliacao\"])\n",
    "\n",
    "avaliacao_produto = \"\"\"\n",
    "Comprei um notebook Dell. Excelente qualidade, mas demorou 10 dias para chegar.\n",
    "\"\"\"\n",
    "\n",
    "prompt_completo = prompt.format(avaliacao=avaliacao_produto)\n",
    "\n",
    "resposta = llm.invoke(prompt_completo)\n",
    "print(resposta)"
   ]
  },
  {
   "cell_type": "code",
   "execution_count": null,
   "metadata": {},
   "outputs": [],
   "source": [
    "from langchain.prompts import PromptTemplate\n",
    "from langchain_openai import OpenAI\n",
    "\n",
    "template = \"Resuma o texto a seguir em 3 frases:\n",
    "\n",
    "Texto: {texto}\n",
    "\n",
    "llm = OpenAI(temperature=0.3)\n",
    "\n",
    "prompt = PromptTemplate(template=template, input_variables=[\"texto\"])\n",
    "\n",
    "texto_longo = \"\"\"\n",
    "A inteligência artificial está transformando diversas indústrias. Na saúde, ela está melhorando diagnósticos, enquanto no setor de transportes está otimizando rotas e aumentando a eficiência. No entanto, desafios éticos e regulatórios continuam a surgir, principalmente em relação à privacidade e ao uso de dados sensíveis.\n",
    "\"\"\"\n",
    "\n",
    "prompt_completo = prompt.format(texto=texto_longo)\n",
    "\n",
    "resposta = llm.invoke(prompt_completo)\n",
    "print(resposta)"
   ]
  }
 ],
 "metadata": {
  "kernelspec": {
   "display_name": "Python 3",
   "language": "python",
   "name": "python3"
  },
  "language_info": {
   "codemirror_mode": {
    "name": "ipython",
    "version": 3
   },
   "file_extension": ".py",
   "mimetype": "text/x-python",
   "name": "python",
   "nbconvert_exporter": "python",
   "pygments_lexer": "ipython3",
   "version": "3.11.1"
  }
 },
 "nbformat": 4,
 "nbformat_minor": 2
}
