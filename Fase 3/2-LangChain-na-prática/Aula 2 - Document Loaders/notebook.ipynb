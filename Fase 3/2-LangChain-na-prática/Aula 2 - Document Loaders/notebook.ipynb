{
 "cells": [
  {
   "cell_type": "code",
   "execution_count": null,
   "metadata": {},
   "outputs": [],
   "source": [
    "!pip install langchain_openai pydantic"
   ]
  },
  {
   "cell_type": "code",
   "execution_count": null,
   "metadata": {},
   "outputs": [],
   "source": [
    "from langchain.document_loaders import PyPDFLoader\n",
    "\n",
    "caminho_pdf = \"exemplo1.pdf\"\n",
    "\n",
    "loader = PyPDFLoader(caminho_pdf)\n",
    "\n",
    "documentos = loader.load()\n",
    "\n",
    "print(f\"Número de documentos carregados: {len(documentos)}\")\n",
    "\n",
    "for i, documento in enumerate(documentos):\n",
    "   print(f\"\\nConteúdo da página {i + 1}:\")\n",
    "   print(documento.page_content)"
   ]
  },
  {
   "cell_type": "code",
   "execution_count": null,
   "metadata": {},
   "outputs": [],
   "source": [
    "Nome,Idade,Profissão\n",
    "Maria,30,Engenheira\n",
    "João,25,Designer\n",
    "Ana,40,Gerente"
   ]
  },
  {
   "cell_type": "code",
   "execution_count": null,
   "metadata": {},
   "outputs": [],
   "source": [
    "from langchain.document_loaders import CSVLoader\n",
    "\n",
    "caminho_csv = \"exemplo.csv\"\n",
    "\n",
    "loader = CSVLoader(caminho_csv)\n",
    "\n",
    "documentos = loader.load()\n",
    "\n",
    "print(f\"Número de documentos carregados: {len(documentos)}\")\n",
    "\n",
    "for i, documento in enumerate(documentos):\n",
    "   print(f\"\\nConteúdo da linha {i + 1}:\")\n",
    "   print(documento.page_content)"
   ]
  },
  {
   "cell_type": "code",
   "execution_count": null,
   "metadata": {},
   "outputs": [],
   "source": [
    "from langchain.document_loaders import WebBaseLoader\n",
    "\n",
    "url = \"https://en.wikipedia.org/wiki/Artificial_intelligence\"\n",
    "\n",
    "loader = WebBaseLoader(url)\n",
    "\n",
    "documentos = loader.load()\n",
    "\n",
    "print(f\"Número de seções carregadas: {len(documentos)}\")\n",
    "\n",
    "for i, documento in enumerate(documentos):\n",
    "   print(f\"\\nConteúdo da seção {i + 1}:\")\n",
    "   print(documento.page_content)"
   ]
  },
  {
   "cell_type": "code",
   "execution_count": null,
   "metadata": {},
   "outputs": [],
   "source": [
    "from langchain_community.document_loaders import NotionDirectoryLoader\n",
    "from dotenv import load_dotenv\n",
    "import os\n",
    "\n",
    "load_dotenv()\n",
    "\n",
    "notion_diretorio = \"id da pagina\" \n",
    "\n",
    "loader = NotionDirectoryLoader(notion_diretorio)\n",
    "\n",
    "documentos = loader.load()\n",
    "\n",
    "print(f\"Número de documentos carregados: {len(documentos)}\")\n",
    "\n",
    "for i, documento in enumerate(documentos):\n",
    "   print(f\"\\nConteúdo do documento {i + 1}:\")\n",
    "   print(documento.page_content)"
   ]
  }
 ],
 "metadata": {
  "kernelspec": {
   "display_name": "Python 3",
   "language": "python",
   "name": "python3"
  },
  "language_info": {
   "codemirror_mode": {
    "name": "ipython",
    "version": 3
   },
   "file_extension": ".py",
   "mimetype": "text/x-python",
   "name": "python",
   "nbconvert_exporter": "python",
   "pygments_lexer": "ipython3",
   "version": "3.11.1"
  }
 },
 "nbformat": 4,
 "nbformat_minor": 2
}
